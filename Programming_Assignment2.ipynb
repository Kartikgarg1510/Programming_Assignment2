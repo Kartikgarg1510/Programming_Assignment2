{
 "cells": [
  {
   "cell_type": "markdown",
   "id": "0e045356-9c3e-472a-a237-f12b6a0581ea",
   "metadata": {},
   "source": [
    "# 1. Write a Python program to convert kilometers to miles?"
   ]
  },
  {
   "cell_type": "code",
   "execution_count": 20,
   "id": "240d1e84-922f-451e-a14a-388302da1979",
   "metadata": {},
   "outputs": [
    {
     "name": "stdin",
     "output_type": "stream",
     "text": [
      "Enter kilometers 1000\n"
     ]
    },
    {
     "name": "stdout",
     "output_type": "stream",
     "text": [
      "621.5040397762585 kilometers\n"
     ]
    }
   ],
   "source": [
    "kilometers = int(input(\"Enter kilometers\"))\n",
    "miles = 0\n",
    "miles = kilometers/1.609\n",
    "print(f\"{miles} kilometers\")"
   ]
  },
  {
   "cell_type": "markdown",
   "id": "5d7780d0-e867-4dd0-aeaa-73c676e790ce",
   "metadata": {},
   "source": [
    "# 2. Write a Python program to convert Celsius to Fahrenheit?"
   ]
  },
  {
   "cell_type": "code",
   "execution_count": 32,
   "id": "72ccf2a7-c66a-46e6-8a9c-c3a8a9e2ef42",
   "metadata": {},
   "outputs": [
    {
     "name": "stdin",
     "output_type": "stream",
     "text": [
      "Enter Celsius 1\n"
     ]
    },
    {
     "name": "stdout",
     "output_type": "stream",
     "text": [
      "33.8 Fahrenheit\n"
     ]
    }
   ],
   "source": [
    "C = int(input(\"Enter Celsius\"))\n",
    "F = 0\n",
    "F=C*(9/5)+32\n",
    "print(f\"{F} Fahrenheit\")"
   ]
  },
  {
   "cell_type": "markdown",
   "id": "e5412b15-a34e-43cd-b9ef-0563ed4927e3",
   "metadata": {},
   "source": [
    "# 3. Write a Python program to display calendar?"
   ]
  },
  {
   "cell_type": "code",
   "execution_count": 43,
   "id": "b5f68c93-b464-4f80-9a31-43573b88d5a5",
   "metadata": {},
   "outputs": [
    {
     "name": "stdin",
     "output_type": "stream",
     "text": [
      "Enter a year:  2006\n",
      "Enter a month:  10\n"
     ]
    },
    {
     "name": "stdout",
     "output_type": "stream",
     "text": [
      "    October 2006\n",
      "Mo Tu We Th Fr Sa Su\n",
      "                   1\n",
      " 2  3  4  5  6  7  8\n",
      " 9 10 11 12 13 14 15\n",
      "16 17 18 19 20 21 22\n",
      "23 24 25 26 27 28 29\n",
      "30 31\n",
      "\n"
     ]
    }
   ],
   "source": [
    "import calendar\n",
    "year = int(input(\"Enter a year: \"))\n",
    "month = int(input(\"Enter a month: \"))\n",
    "print(calendar.month(year, month))"
   ]
  },
  {
   "cell_type": "markdown",
   "id": "9a5670e8-4bc6-4066-b9f3-738579a8fd5b",
   "metadata": {},
   "source": [
    "# 4. Write a Python program to solve quadratic equation?"
   ]
  },
  {
   "cell_type": "code",
   "execution_count": 4,
   "id": "e218a6a7-7524-4f33-b3d2-b474aecd9331",
   "metadata": {},
   "outputs": [
    {
     "name": "stdout",
     "output_type": "stream",
     "text": [
      "Solve quadratic equation: ax² + bx + c = 0\n"
     ]
    },
    {
     "name": "stdin",
     "output_type": "stream",
     "text": [
      "Enter a:  1\n",
      "Enter b:  -3\n",
      "Enter c:  2\n"
     ]
    },
    {
     "name": "stdout",
     "output_type": "stream",
     "text": [
      "Two Real Roots:\n",
      "Root 1 = 2.0\n",
      "Root 2 = 1.0\n"
     ]
    }
   ],
   "source": [
    "import math\n",
    "\n",
    "print(\"Solve quadratic equation: ax² + bx + c = 0\")\n",
    "a = float(input(\"Enter a: \"))\n",
    "b = float(input(\"Enter b: \"))\n",
    "c = float(input(\"Enter c: \"))\n",
    "d = b**2 - 4*a*c\n",
    "if d > 0:\n",
    "    root1 = (-b + math.sqrt(d)) / (2*a)\n",
    "    root2 = (-b - math.sqrt(d)) / (2*a)\n",
    "    print(\"Two Real Roots:\")\n",
    "    print(\"Root 1 =\", root1)\n",
    "    print(\"Root 2 =\", root2)\n",
    "elif d == 0:\n",
    "    root = -b / (2*a)\n",
    "    print(\"One Real Root:\", root)\n",
    "else:\n",
    "    print(\"No Real Roots (Complex roots)\")"
   ]
  },
  {
   "cell_type": "markdown",
   "id": "3d591779-74e2-4986-af33-ad857dd7e8a9",
   "metadata": {},
   "source": [
    "# 5. Write a Python program to swap two variables without temp variable?"
   ]
  },
  {
   "cell_type": "code",
   "execution_count": 2,
   "id": "d4ee3e27-4f40-4768-886e-ccd4411297d1",
   "metadata": {},
   "outputs": [
    {
     "name": "stdin",
     "output_type": "stream",
     "text": [
      "First:  5\n",
      "Second:  10\n"
     ]
    },
    {
     "name": "stdout",
     "output_type": "stream",
     "text": [
      "First: 10\n",
      "Second: 5\n"
     ]
    }
   ],
   "source": [
    "a = input(\"First: \")\n",
    "b = input(\"Second: \")\n",
    "\n",
    "a, b = b, a\n",
    "\n",
    "print(\"First:\", a)\n",
    "print(\"Second:\", b)"
   ]
  },
  {
   "cell_type": "code",
   "execution_count": null,
   "id": "634a32f5-830c-4038-b2e7-c8ce20387a67",
   "metadata": {},
   "outputs": [],
   "source": []
  }
 ],
 "metadata": {
  "kernelspec": {
   "display_name": "Python [conda env:base] *",
   "language": "python",
   "name": "conda-base-py"
  },
  "language_info": {
   "codemirror_mode": {
    "name": "ipython",
    "version": 3
   },
   "file_extension": ".py",
   "mimetype": "text/x-python",
   "name": "python",
   "nbconvert_exporter": "python",
   "pygments_lexer": "ipython3",
   "version": "3.12.7"
  }
 },
 "nbformat": 4,
 "nbformat_minor": 5
}
